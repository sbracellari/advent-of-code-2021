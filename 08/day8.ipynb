{
 "cells": [
  {
   "cell_type": "code",
   "execution_count": 1,
   "metadata": {},
   "outputs": [],
   "source": [
    "##### preprocessing #####\n",
    "\n",
    "with open('day8.txt', 'r') as f:\n",
    "    data = f.readlines()\n",
    "segments = [row.strip().split(' | ') for row in data]\n",
    "segments = [[r.split(' ') for r in row] for row in segments]"
   ]
  },
  {
   "cell_type": "code",
   "execution_count": 3,
   "metadata": {},
   "outputs": [
    {
     "name": "stdout",
     "output_type": "stream",
     "text": [
      "488\n"
     ]
    }
   ],
   "source": [
    "##### part 1 #####\n",
    "\n",
    "n = 0\n",
    "for segment in segments:\n",
    "    n += len([s for s in segment[1] if len(s) == 2 or len(s) == 3 or len(s) == 4 or len(s) == 7])\n",
    "\n",
    "print(n)"
   ]
  },
  {
   "cell_type": "code",
   "execution_count": 4,
   "metadata": {},
   "outputs": [
    {
     "name": "stdout",
     "output_type": "stream",
     "text": [
      "1040429\n"
     ]
    }
   ],
   "source": [
    "##### part 2 #####\n",
    "\n",
    "total = 0\n",
    "for segment in segments:\n",
    "    segment[0].sort(key=len)\n",
    "    vals, output = {}, ''\n",
    "    round1 = [s for s in segment[0] if len(s) != 5]\n",
    "    round2 = [s for s in segment[0] if len(s) == 5]\n",
    "\n",
    "    for s in round1:\n",
    "        if len(s) == 2: vals.update({1: s})\n",
    "        elif len(s) == 3: vals.update({7: s})\n",
    "        elif len(s) == 4: vals.update({4: s})\n",
    "\n",
    "        elif len(s) == 6:\n",
    "            if set([x in s for x in vals.get(7)]) == {True} and set([x in s for x in vals.get(4)]) == {True}:\n",
    "                vals.update({9: s})\n",
    "            elif set([x in s for x in vals.get(7)]) == {True}:\n",
    "                vals.update({0: s})\n",
    "            else: vals.update({6: s})\n",
    "        elif len(s) == 7: vals.update({8: s})\n",
    "\n",
    "    for s in round2:\n",
    "        if set([x in s for x in vals.get(7)]) == {True}:\n",
    "                vals.update({3: s})\n",
    "        else: \n",
    "            i = ''.join(set(vals.get(0))\n",
    "                    .intersection(set(vals.get(1)))\n",
    "                    .intersection(set(vals.get(4)))\n",
    "                    .intersection(set(vals.get(6)))\n",
    "                    .intersection(set(vals.get(8)))\n",
    "                    .intersection(set(vals.get(9))))\n",
    "            \n",
    "            if i in s: vals.update({5: s})\n",
    "            else: vals.update({2: s})\n",
    "    \n",
    "    for s in segment[1]:\n",
    "        if len(s) == 2: output += '1'\n",
    "        elif len(s) == 3: output += '7'\n",
    "        elif len(s) == 4: output += '4'\n",
    "        elif len(s) == 7: output += '8'\n",
    "\n",
    "        else:\n",
    "            for k in vals.keys():\n",
    "                if ''.join(sorted(vals.get(k))) == ''.join(sorted(s)):\n",
    "                    output += str(k) \n",
    "    total += int(output)\n",
    "print(total)"
   ]
  }
 ],
 "metadata": {
  "interpreter": {
   "hash": "aee8b7b246df8f9039afb4144a1f6fd8d2ca17a180786b69acc140d282b71a49"
  },
  "kernelspec": {
   "display_name": "Python 3.9.7 64-bit",
   "language": "python",
   "name": "python3"
  },
  "language_info": {
   "codemirror_mode": {
    "name": "ipython",
    "version": 3
   },
   "file_extension": ".py",
   "mimetype": "text/x-python",
   "name": "python",
   "nbconvert_exporter": "python",
   "pygments_lexer": "ipython3",
   "version": "3.9.7"
  },
  "orig_nbformat": 4
 },
 "nbformat": 4,
 "nbformat_minor": 2
}
