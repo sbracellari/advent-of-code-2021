{
 "cells": [
  {
   "cell_type": "code",
   "execution_count": 1,
   "metadata": {},
   "outputs": [],
   "source": [
    "##### preprocessing #####\n",
    "\n",
    "with open('day5.txt', 'r') as f:\n",
    "    data = f.readlines()\n",
    "\n",
    "coords = [d.strip().split(' -> ') for d in data]\n",
    "coords = [[r.split(',') for r in row] for row in coords]"
   ]
  },
  {
   "cell_type": "code",
   "execution_count": 2,
   "metadata": {},
   "outputs": [
    {
     "name": "stdout",
     "output_type": "stream",
     "text": [
      "20012\n"
     ]
    }
   ],
   "source": [
    "##### parts 1 & 2 #####\n",
    "# for part 1, comment out diagonal checks\n",
    "\n",
    "point_frequencies = {}\n",
    "danger_zones = 0\n",
    "\n",
    "for i in range(len(coords)):\n",
    "    # check vertical line\n",
    "    if coords[i][0][0] == coords[i][1][0]: # if x1, x2 are equal\n",
    "        yrange = int(coords[i][0][1]) - int(coords[i][1][1])\n",
    "\n",
    "        for y in range(abs(yrange)+1):\n",
    "            ycoord = abs(int(coords[i][0][1]) - y) if yrange >= 0 else abs(int(coords[i][0][1]) + y)\n",
    "            coord = '(' + coords[i][0][0] + ',' + str(ycoord) + ')'\n",
    "            point_frequencies[coord] = point_frequencies.get(coord, 0) + 1\n",
    "    \n",
    "    # check horizontal line\n",
    "    if coords[i][0][1] == coords[i][1][1]: # if y1, y2 are equal\n",
    "        xrange = int(coords[i][0][0])-int(coords[i][1][0])\n",
    "\n",
    "        for x in range(abs(xrange)+1):\n",
    "            xcoord = abs(int(coords[i][0][0]) - x) if xrange >= 0 else abs(int(coords[i][0][0]) + x)\n",
    "            coord = '(' + str(xcoord) + ',' + coords[i][0][1] + ')'\n",
    "            point_frequencies[coord] = point_frequencies.get(coord, 0) + 1\n",
    "\n",
    "    # check positive diagonal line (45 deg only)\n",
    "    if int(coords[i][1][0]) - int(coords[i][0][0]) == int(coords[i][1][1]) - int(coords[i][0][1]): # x2 - x1 = y2 - y1\n",
    "        xyrange = int(coords[i][0][0]) - int(coords[i][1][0])\n",
    "\n",
    "        for xy in range(abs(xyrange)+1):\n",
    "            xcoord = abs(int(coords[i][0][0]) - xy) if xyrange >= 0 else abs(int(coords[i][0][0]) + xy)\n",
    "            ycoord = abs(int(coords[i][0][1]) - xy) if xyrange >= 0 else abs(int(coords[i][0][1]) + xy)\n",
    "            coord = '(' + str(xcoord) + ',' + str(ycoord) + ')'\n",
    "            point_frequencies[coord] = point_frequencies.get(coord, 0) + 1\n",
    "\n",
    "    # check negative diagonal line (45 deg only)\n",
    "    if int(coords[i][1][0]) - int(coords[i][0][0]) == -(int(coords[i][1][1]) - int(coords[i][0][1])): # x2 - x1 = -(y2 - y1)\n",
    "        xyrange = int(coords[i][0][0]) - int(coords[i][1][0])\n",
    "\n",
    "        for xy in range(abs(xyrange)+1):\n",
    "            xcoord = abs(int(coords[i][0][0]) - xy) if xyrange >= 0 else abs(int(coords[i][0][0]) + xy)\n",
    "            ycoord = abs(int(coords[i][0][1]) + xy) if xyrange >= 0 else abs(int(coords[i][0][1]) - xy)\n",
    "            coord = '(' + str(xcoord) + ',' + str(ycoord) + ')'\n",
    "            point_frequencies[coord] = point_frequencies.get(coord, 0) + 1\n",
    "\n",
    "danger_zones += sum([1 for v in point_frequencies.values() if v >= 2])\n",
    "print(danger_zones)"
   ]
  }
 ],
 "metadata": {
  "interpreter": {
   "hash": "b0fa6594d8f4cbf19f97940f81e996739fb7646882a419484c72d19e05852a7e"
  },
  "kernelspec": {
   "display_name": "SageMath 9.4",
   "language": "python",
   "name": "python3"
  },
  "language_info": {
   "codemirror_mode": {
    "name": "ipython",
    "version": 3
   },
   "file_extension": ".py",
   "mimetype": "text/x-python",
   "name": "python",
   "nbconvert_exporter": "python",
   "pygments_lexer": "ipython3",
   "version": "3.9.7"
  },
  "orig_nbformat": 4
 },
 "nbformat": 4,
 "nbformat_minor": 2
}
