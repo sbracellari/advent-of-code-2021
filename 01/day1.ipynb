{
 "cells": [
  {
   "cell_type": "code",
   "execution_count": 2,
   "metadata": {},
   "outputs": [],
   "source": [
    "##### preprocessing #####\n",
    "\n",
    "with open('day1.txt', 'r') as f:\n",
    "    data = f.read()\n",
    "depths = [int(i) for i in data.split()]"
   ]
  },
  {
   "cell_type": "code",
   "execution_count": 3,
   "metadata": {},
   "outputs": [
    {
     "name": "stdout",
     "output_type": "stream",
     "text": [
      "increased: 1583\n"
     ]
    }
   ],
   "source": [
    "##### part 1 #####\n",
    "\n",
    "increased = 0\n",
    "for i in range(0, len(depths)-1):\n",
    "    if depths[i+1] - depths[i] > 0:\n",
    "        increased += 1\n",
    "\n",
    "print('increased:', increased)"
   ]
  },
  {
   "cell_type": "code",
   "execution_count": 4,
   "metadata": {},
   "outputs": [
    {
     "name": "stdout",
     "output_type": "stream",
     "text": [
      "windows increased: 1627\n"
     ]
    }
   ],
   "source": [
    "##### part 2 #####\n",
    "\n",
    "windows = 0\n",
    "for i in range(0, len(depths)-3):\n",
    "    window0 = sum(depths[i:i+3])\n",
    "    window1 = sum(depths[i+1:i+4])\n",
    "\n",
    "    if window1 > window0:\n",
    "        windows += 1\n",
    "\n",
    "print('windows increased:', windows)"
   ]
  }
 ],
 "metadata": {
  "interpreter": {
   "hash": "aee8b7b246df8f9039afb4144a1f6fd8d2ca17a180786b69acc140d282b71a49"
  },
  "kernelspec": {
   "display_name": "Python 3.9.7 64-bit",
   "language": "python",
   "name": "python3"
  },
  "language_info": {
   "codemirror_mode": {
    "name": "ipython",
    "version": 3
   },
   "file_extension": ".py",
   "mimetype": "text/x-python",
   "name": "python",
   "nbconvert_exporter": "python",
   "pygments_lexer": "ipython3",
   "version": "3.9.7"
  },
  "orig_nbformat": 4
 },
 "nbformat": 4,
 "nbformat_minor": 2
}
