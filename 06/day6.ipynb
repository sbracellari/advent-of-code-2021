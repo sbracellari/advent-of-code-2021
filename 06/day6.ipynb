{
 "cells": [
  {
   "cell_type": "code",
   "execution_count": 1,
   "metadata": {},
   "outputs": [],
   "source": [
    "##### preprocessing #####\n",
    "\n",
    "with open('day6.txt', 'r') as f:\n",
    "    data = f.readlines()\n",
    "fishbois = [int(i) for i in data[0].split(',')]\n",
    "fish = { 0:0, 1:0, 2:0, 3:0, 4:0, 5:0, 6:0, 7:0, 8:0 }\n",
    "fish.update({f:fishbois.count(f) for f in fishbois})"
   ]
  },
  {
   "cell_type": "code",
   "execution_count": 4,
   "metadata": {},
   "outputs": [
    {
     "name": "stdout",
     "output_type": "stream",
     "text": [
      "num of fish 1650309278600\n"
     ]
    }
   ],
   "source": [
    "##### parts 1 & 2 #####\n",
    "\n",
    "def num_of_fish(fish, stop, iter=0):\n",
    "    while iter < stop:\n",
    "        new_fish = {}\n",
    "        new_fish.update({0: fish.get(1)})\n",
    "        new_fish.update({1: fish.get(2)})\n",
    "        new_fish.update({2: fish.get(3)})\n",
    "        new_fish.update({3: fish.get(4)})\n",
    "        new_fish.update({4: fish.get(5)})\n",
    "        new_fish.update({5: fish.get(6)})\n",
    "        new_fish.update({6: fish.get(0) + fish.get(7)})\n",
    "        new_fish.update({7: fish.get(8)})\n",
    "        new_fish.update({8: fish.get(0)})\n",
    "        \n",
    "        fish = new_fish\n",
    "        iter += 1\n",
    "    \n",
    "    print('num of fish', sum(list(fish.values())))\n",
    "\n",
    "num_of_fish(fish, 256)"
   ]
  }
 ],
 "metadata": {
  "interpreter": {
   "hash": "aee8b7b246df8f9039afb4144a1f6fd8d2ca17a180786b69acc140d282b71a49"
  },
  "kernelspec": {
   "display_name": "Python 3.9.7 64-bit",
   "language": "python",
   "name": "python3"
  },
  "language_info": {
   "codemirror_mode": {
    "name": "ipython",
    "version": 3
   },
   "file_extension": ".py",
   "mimetype": "text/x-python",
   "name": "python",
   "nbconvert_exporter": "python",
   "pygments_lexer": "ipython3",
   "version": "3.9.7"
  },
  "orig_nbformat": 4
 },
 "nbformat": 4,
 "nbformat_minor": 2
}
