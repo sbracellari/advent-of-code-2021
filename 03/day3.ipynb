{
 "cells": [
  {
   "cell_type": "code",
   "execution_count": 70,
   "metadata": {},
   "outputs": [],
   "source": [
    "##### preprocessing #####\n",
    "\n",
    "with open('day3.txt', 'r') as f:\n",
    "    d = f.read()\n",
    "data = [i for i in d.split('\\n')]"
   ]
  },
  {
   "cell_type": "code",
   "execution_count": 71,
   "metadata": {},
   "outputs": [],
   "source": [
    "##### helper functions #####\n",
    "\n",
    "def transpose(n):\n",
    "    return [[int(row[i]) for row in n] for i in range(len(n[0]))]\n",
    "\n",
    "def convert_to_decimal(n):\n",
    "    dec, n = 0, n[::-1]\n",
    "    for i in range(len(n)):\n",
    "        if n[i] == '1':\n",
    "            dec += 2**i\n",
    "    return dec"
   ]
  },
  {
   "cell_type": "code",
   "execution_count": 72,
   "metadata": {},
   "outputs": [
    {
     "name": "stdout",
     "output_type": "stream",
     "text": [
      "1025636\n"
     ]
    }
   ],
   "source": [
    "##### part 1 #####\n",
    "\n",
    "gamma, epsilon = '', ''\n",
    "t = transpose(data)\n",
    "\n",
    "# find binary values of gamma and epsilon\n",
    "for i in range(0, len(t)):\n",
    "    if sum(t[i]) >= -(-len(data)//2):\n",
    "        gamma += '1'\n",
    "        epsilon += '0'\n",
    "    else:\n",
    "        gamma += '0'\n",
    "        epsilon += '1'\n",
    "   \n",
    "gamma = convert_to_decimal(gamma)\n",
    "epsilon = convert_to_decimal(epsilon)\n",
    "print(epsilon*gamma)"
   ]
  },
  {
   "cell_type": "code",
   "execution_count": 74,
   "metadata": {},
   "outputs": [
    {
     "name": "stdout",
     "output_type": "stream",
     "text": [
      "793873\n"
     ]
    }
   ],
   "source": [
    "##### part 2 #####\n",
    "\n",
    "bits = data\n",
    "diagnostics = dict(enumerate(data))\n",
    "\n",
    "def get_reading(bits, dct, flag, iter=0):\n",
    "\n",
    "    if len(list(dct.keys())) == 1:\n",
    "        return list(dct.values())[0]\n",
    "\n",
    "    bits = transpose(bits)[iter]\n",
    "    zeros_dict, ones_dict = {}, {}\n",
    "\n",
    "    for i in range(len(bits)):\n",
    "        keys, values = list(dct.keys()), list(dct.values())\n",
    "\n",
    "        if bits[i] == 1:\n",
    "            ones_dict.update({keys[i]: values[i]})\n",
    "        else:\n",
    "            zeros_dict.update({keys[i]: values[i]})\n",
    "    \n",
    "    zeros_bits, ones_bits = list(zeros_dict.values()), list(ones_dict.values())\n",
    "\n",
    "    if flag == 'oxygen': \n",
    "        if len(ones_bits) >= len(zeros_bits):    \n",
    "            return get_reading(ones_bits, ones_dict, 'oxygen', iter+1)\n",
    "        else:\n",
    "            return get_reading(zeros_bits, zeros_dict, 'oxygen', iter+1)\n",
    "    elif flag == 'CO2':\n",
    "        if len(ones_bits) < len(zeros_bits):    \n",
    "            return get_reading(ones_bits, ones_dict, 'CO2', iter+1)\n",
    "        else:\n",
    "            return get_reading(zeros_bits, zeros_dict, 'CO2', iter+1)\n",
    "    else:\n",
    "        return\n",
    "\n",
    "CO2_reading = get_reading(bits, diagnostics, 'CO2')\n",
    "oxygen_reading = get_reading(bits, diagnostics, 'oxygen')\n",
    "\n",
    "print(convert_to_decimal(oxygen_reading)*convert_to_decimal(CO2_reading))"
   ]
  }
 ],
 "metadata": {
  "interpreter": {
   "hash": "aee8b7b246df8f9039afb4144a1f6fd8d2ca17a180786b69acc140d282b71a49"
  },
  "kernelspec": {
   "display_name": "Python 3.9.7 64-bit",
   "language": "python",
   "name": "python3"
  },
  "language_info": {
   "codemirror_mode": {
    "name": "ipython",
    "version": 3
   },
   "file_extension": ".py",
   "mimetype": "text/x-python",
   "name": "python",
   "nbconvert_exporter": "python",
   "pygments_lexer": "ipython3",
   "version": "3.9.7"
  },
  "orig_nbformat": 4
 },
 "nbformat": 4,
 "nbformat_minor": 2
}
