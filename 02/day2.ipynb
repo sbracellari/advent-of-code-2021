{
 "cells": [
  {
   "cell_type": "code",
   "execution_count": 1,
   "metadata": {},
   "outputs": [],
   "source": [
    "##### preprocessing #####\n",
    "\n",
    "with open('day2.txt', 'r') as f:\n",
    "    data = f.read()\n",
    "directions = [i for i in data.split('\\n')]"
   ]
  },
  {
   "cell_type": "code",
   "execution_count": 2,
   "metadata": {},
   "outputs": [
    {
     "name": "stdout",
     "output_type": "stream",
     "text": [
      "position: 2018 depth: 820\n",
      "1654760\n"
     ]
    }
   ],
   "source": [
    "##### part 1 #####\n",
    "\n",
    "position, depth = 0, 0\n",
    "\n",
    "for i in range(0, len(directions)):\n",
    "    direction = directions[i].split()[0]\n",
    "    value = int(directions[i].split()[1])\n",
    "    \n",
    "    if direction == 'forward':\n",
    "        position += value\n",
    "    elif direction == 'down':\n",
    "        depth += value\n",
    "    elif direction == 'up':\n",
    "        depth -= value\n",
    "\n",
    "print('position:', position, 'depth:', depth)\n",
    "print(position*depth)"
   ]
  },
  {
   "cell_type": "code",
   "execution_count": 3,
   "metadata": {},
   "outputs": [
    {
     "name": "stdout",
     "output_type": "stream",
     "text": [
      "\n",
      "position: 2018 depth: 969300\n",
      "1956047400\n"
     ]
    }
   ],
   "source": [
    "##### part 2 #####\n",
    "\n",
    "position, depth, aim = 0, 0, 0\n",
    "\n",
    "for i in range(0, len(directions)):\n",
    "    direction = directions[i].split()[0]\n",
    "    value = int(directions[i].split()[1])\n",
    "    \n",
    "    if direction == 'forward':\n",
    "        position += value\n",
    "        depth += aim*value\n",
    "    elif direction == 'down':\n",
    "        aim += value\n",
    "    elif direction == 'up':\n",
    "        aim -= value\n",
    "\n",
    "print('\\nposition:', position, 'depth:', depth)\n",
    "print(position*depth)"
   ]
  }
 ],
 "metadata": {
  "interpreter": {
   "hash": "aee8b7b246df8f9039afb4144a1f6fd8d2ca17a180786b69acc140d282b71a49"
  },
  "kernelspec": {
   "display_name": "Python 3.9.7 64-bit",
   "language": "python",
   "name": "python3"
  },
  "language_info": {
   "codemirror_mode": {
    "name": "ipython",
    "version": 3
   },
   "file_extension": ".py",
   "mimetype": "text/x-python",
   "name": "python",
   "nbconvert_exporter": "python",
   "pygments_lexer": "ipython3",
   "version": "3.9.7"
  },
  "orig_nbformat": 4
 },
 "nbformat": 4,
 "nbformat_minor": 2
}
