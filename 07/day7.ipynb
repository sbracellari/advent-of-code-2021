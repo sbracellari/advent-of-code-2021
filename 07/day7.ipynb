{
 "cells": [
  {
   "cell_type": "code",
   "execution_count": 1,
   "metadata": {},
   "outputs": [],
   "source": [
    "##### preprocessing #####\n",
    "\n",
    "with open('day7.txt', 'r') as f:\n",
    "    data = f.readlines()\n",
    "positions = [int(i) for i in data[0].split(',')]\n",
    "positions.sort()"
   ]
  },
  {
   "cell_type": "code",
   "execution_count": 3,
   "metadata": {},
   "outputs": [
    {
     "name": "stdout",
     "output_type": "stream",
     "text": [
      "328187\n"
     ]
    }
   ],
   "source": [
    "##### part 1 ######\n",
    "\n",
    "least_fuel = 9999999\n",
    "n = len(positions)\n",
    "\n",
    "for x in range(positions[n-1]-positions[0]):\n",
    "    fuel = sum([abs(x-positions[i]) for i in range(len(positions))])\n",
    "    least_fuel = fuel if fuel < least_fuel else least_fuel\n",
    "print(least_fuel)"
   ]
  },
  {
   "cell_type": "code",
   "execution_count": 4,
   "metadata": {},
   "outputs": [
    {
     "name": "stdout",
     "output_type": "stream",
     "text": [
      "91257582.0\n"
     ]
    }
   ],
   "source": [
    "##### part 2 #####\n",
    "\n",
    "least_fuel = 99999999\n",
    "for x in range(positions[n-1]-positions[0]):\n",
    "    fuel = 0\n",
    "    for i in range(len(positions)):\n",
    "        n = abs(x-positions[i])\n",
    "        fuel += (n*(n+1))/2\n",
    "    least_fuel = fuel if fuel < least_fuel else least_fuel\n",
    "print(least_fuel)"
   ]
  }
 ],
 "metadata": {
  "interpreter": {
   "hash": "aee8b7b246df8f9039afb4144a1f6fd8d2ca17a180786b69acc140d282b71a49"
  },
  "kernelspec": {
   "display_name": "Python 3.9.7 64-bit",
   "language": "python",
   "name": "python3"
  },
  "language_info": {
   "codemirror_mode": {
    "name": "ipython",
    "version": 3
   },
   "file_extension": ".py",
   "mimetype": "text/x-python",
   "name": "python",
   "nbconvert_exporter": "python",
   "pygments_lexer": "ipython3",
   "version": "3.9.7"
  },
  "orig_nbformat": 4
 },
 "nbformat": 4,
 "nbformat_minor": 2
}
