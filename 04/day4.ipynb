{
 "cells": [
  {
   "cell_type": "code",
   "execution_count": 18,
   "metadata": {},
   "outputs": [],
   "source": [
    "##### imports #####\n",
    "\n",
    "import numpy as np"
   ]
  },
  {
   "cell_type": "code",
   "execution_count": 19,
   "metadata": {},
   "outputs": [],
   "source": [
    "##### preprocessing #####\n",
    "\n",
    "with open('day4.txt', 'r') as f:\n",
    "    d = f.readlines()\n",
    "\n",
    "numbers = d[0].strip().split(',')\n",
    "numbers = np.array(numbers)\n",
    "boards = d[1:]\n",
    "boards[:] = [b for b in boards if b != '\\n']\n",
    "boards = [b.strip().split(' ') for b in boards]\n",
    "boards[:] = [b for b in boards if b != '']\n",
    "boards[:] = [[i for i in b if i] for b in boards]\n",
    "boards = np.array(boards)\n",
    "boards = np.split(boards, 100)"
   ]
  },
  {
   "cell_type": "code",
   "execution_count": 20,
   "metadata": {},
   "outputs": [],
   "source": [
    "##### helper functions #####\n",
    "\n",
    "# check if board has a winning row or column\n",
    "def check_winner(board):\n",
    "    marked_spots = np.array(list(board.values())).reshape(5, 5)\n",
    "\n",
    "    for i in range(5):\n",
    "        transposed_board = np.transpose(marked_spots)\n",
    "        if sum(transposed_board[i]) == 5:\n",
    "            return board\n",
    "        if sum(marked_spots[i]) == 5:\n",
    "            return board\n",
    "    \n",
    "    return []"
   ]
  },
  {
   "cell_type": "code",
   "execution_count": 23,
   "metadata": {},
   "outputs": [
    {
     "data": {
      "text/plain": [
       "8136"
      ]
     },
     "execution_count": 23,
     "metadata": {},
     "output_type": "execute_result"
    }
   ],
   "source": [
    "##### parts 1 & 2 #####\n",
    "\n",
    "board_dicts = []\n",
    "\n",
    "for board in boards:\n",
    "    b = {}\n",
    "    for row in board:\n",
    "        for number in row:\n",
    "            b.update({number: 0})\n",
    "    board_dicts.append(b)\n",
    "\n",
    "def check_boards(board_dicts, numbers, flag, winning_boards=[], answers=[], iter=0):\n",
    "\n",
    "    if iter == len(numbers):\n",
    "        return answers[0] if flag == 'first' else answers[-1]\n",
    "\n",
    "    winning_sum = 0\n",
    "    current_no = numbers[iter]\n",
    "\n",
    "    for board in board_dicts:\n",
    "        if current_no in list(board.keys()):\n",
    "            board.update({current_no: 1})\n",
    "        \n",
    "        if board not in winning_boards:\n",
    "            winner = check_winner(board)\n",
    "\n",
    "            if winner != []:\n",
    "                winning_boards.append(board)\n",
    "                winning_sum = sum([int(k) for k in winner if winner.get(k) == 0])\n",
    "                answers.append(winning_sum*int(current_no))\n",
    "    \n",
    "    return check_boards(board_dicts, numbers, flag, winning_boards, answers, iter+1)\n",
    "\n",
    "# pass 'first' to get first winning board\n",
    "# pass 'last' to get last winning board\n",
    "check_boards(board_dicts, numbers, 'first')"
   ]
  }
 ],
 "metadata": {
  "interpreter": {
   "hash": "aee8b7b246df8f9039afb4144a1f6fd8d2ca17a180786b69acc140d282b71a49"
  },
  "kernelspec": {
   "display_name": "Python 3.9.7 64-bit",
   "language": "python",
   "name": "python3"
  },
  "language_info": {
   "codemirror_mode": {
    "name": "ipython",
    "version": 3
   },
   "file_extension": ".py",
   "mimetype": "text/x-python",
   "name": "python",
   "nbconvert_exporter": "python",
   "pygments_lexer": "ipython3",
   "version": "3.9.7"
  },
  "orig_nbformat": 4
 },
 "nbformat": 4,
 "nbformat_minor": 2
}
